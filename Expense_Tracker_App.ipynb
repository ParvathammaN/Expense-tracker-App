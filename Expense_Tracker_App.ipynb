{
  "nbformat": 4,
  "nbformat_minor": 0,
  "metadata": {
    "colab": {
      "provenance": []
    },
    "kernelspec": {
      "name": "python3",
      "display_name": "Python 3"
    },
    "language_info": {
      "name": "python"
    }
  },
  "cells": [
    {
      "cell_type": "code",
      "execution_count": null,
      "metadata": {
        "id": "tq6Os0z5PxHT"
      },
      "outputs": [],
      "source": [
        "#List of dictonary in variable transactions\n",
        "transactions = [\n",
        "{\"date\": \"2024-08-01\", \"amount\": 50, \"description\": \"Groceries\"},\n",
        "{\"date\": \"2024-08-02\", \"amount\": 20, \"description\": \"Bus fare\"},\n",
        "{\"date\": \"2024-08-03\", \"amount\": 300, \"description\": \"Electricity bill\"},\n",
        "{\"date\": \"2024-08-04\", \"amount\": 200, \"description\": \"New shoes\"},\n",
        "]"
      ]
    },
    {
      "cell_type": "code",
      "source": [
        "#Using Linear Search to find transactions based on dates\n",
        "def search_by_date_linear(transactions):\n",
        "  date=input(\"Enter search date: \")\n",
        "  for transaction in transactions:\n",
        "    if transaction[\"date\"] == date:\n",
        "      return transaction\n",
        "  return \"Transaction not found.\""
      ],
      "metadata": {
        "id": "4vxl9f7QSX6N"
      },
      "execution_count": null,
      "outputs": []
    },
    {
      "cell_type": "code",
      "source": [
        "#Sorting Transactions based on amount with Bubble sort\n",
        "def sort_amount(transactions):\n",
        "  for i in range(len(transactions)):\n",
        "    for j in range(0,len(transactions)-1):\n",
        "      if transactions[j]['amount'] > transactions[j+1]['amount']:\n",
        "        transactions[j],transactions[j+1]=transactions[j+1],transactions[j]\n",
        "  return transactions"
      ],
      "metadata": {
        "id": "h3jsaAgbW0El"
      },
      "execution_count": null,
      "outputs": []
    },
    {
      "cell_type": "code",
      "source": [
        "#Fetching input from the user\n",
        "def add_data(transactions):\n",
        "  date=input(\"Enter date of transactions: \")\n",
        "  amount=int(input(\"Enter amount for transactions: \"))\n",
        "  description=input(\"Enter transaction description: \")\n",
        "  transaction={\"date\":date,\"amount\":amount,\"description\":description}\n",
        "  transactions.append(transaction)\n",
        "  return transactions"
      ],
      "metadata": {
        "id": "6vna4nlieohn"
      },
      "execution_count": null,
      "outputs": []
    },
    {
      "cell_type": "code",
      "source": [
        "#Delete data from list\n",
        "def delete_data_date(transactions):\n",
        "  date=input(\"Enter search date: \")\n",
        "  for transaction in transactions:\n",
        "    if transaction[\"date\"] == date:\n",
        "      transactions.remove(transaction)\n",
        "  return transactions"
      ],
      "metadata": {
        "id": "UxleKPdkyq7M"
      },
      "execution_count": null,
      "outputs": []
    },
    {
      "cell_type": "code",
      "source": [
        "#Combining the features into application\n",
        "flag=True\n",
        "while flag:\n",
        "  print(\"Expense Tracker App\")\n",
        "  print(\"1. Add Transaction\")\n",
        "  print(\"2. Search Transaction\")\n",
        "  print(\"3. Sort Transaction\")\n",
        "  print(\"4. Delete Transaction\")\n",
        "  print(\"5. Display\")\n",
        "  print(\"6. Exit\")\n",
        "  choice=int(input(\"Enter your choice: \"))\n",
        "  if choice == 1:\n",
        "    print(\"-\"*50)\n",
        "    print(\"Adding Data\")\n",
        "    print(\"-\"*50)\n",
        "    transactions=add_data(transactions)\n",
        "    print(\"-\"*50)\n",
        "  elif choice == 2:\n",
        "    print(\"-\"*50)\n",
        "    print(\"Searching Data\")\n",
        "    print(\"-\"*50)\n",
        "    print(search_by_date_linear(transactions))\n",
        "    print(\"-\"*50)\n",
        "  elif choice == 3:\n",
        "    print(\"-\"*50)\n",
        "    print(\"Sorting Data\")\n",
        "    print(\"-\"*50)\n",
        "    transactions=sort_amount(transactions)\n",
        "    print(\"-\"*50)\n",
        "  elif choice == 4:\n",
        "    print(\"-\"*50)\n",
        "    print(\"Deleting Data\")\n",
        "    print(\"-\"*50)\n",
        "    transactions=delete_data_date(transactions)\n",
        "    print(\"-\"*50)\n",
        "  elif choice == 5:\n",
        "    print(\"-\"*50)\n",
        "    print(\"Displaying Transactions\")\n",
        "    print(\"-\"*50)\n",
        "    print(transactions)\n",
        "    print(\"-\"*50)\n",
        "  elif choice == 6:\n",
        "    print(\"-\"*50)\n",
        "    print(\"Exiting Application\")\n",
        "    flag=False\n",
        "    print(\"-\"*50)\n",
        "  else:\n",
        "    print(\"-\"*50)\n",
        "    print(\"Please enter the correct choice\")\n",
        "    print(\"-\"*50)"
      ],
      "metadata": {
        "colab": {
          "base_uri": "https://localhost:8080/"
        },
        "id": "iEQ4nHGnRCAr",
        "outputId": "a261c52b-8963-4499-fdb5-e2d92fcf528f"
      },
      "execution_count": null,
      "outputs": [
        {
          "metadata": {
            "tags": null
          },
          "name": "stdout",
          "output_type": "stream",
          "text": [
            "Expense Tracker App\n",
            "1. Add Transaction\n",
            "2. Search Transaction\n",
            "3. Sort Transaction\n",
            "4. Delete Transaction\n",
            "5. Display\n",
            "6. Exit\n"
          ]
        }
      ]
    },
    {
      "cell_type": "code",
      "source": [],
      "metadata": {
        "id": "L_z16ldhTPf8"
      },
      "execution_count": null,
      "outputs": []
    }
  ]
}